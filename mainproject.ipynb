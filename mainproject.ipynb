{
 "cells": [
  {
   "cell_type": "code",
   "execution_count": 31,
   "id": "9a05d9b6",
   "metadata": {},
   "outputs": [],
   "source": [
    "import os \n",
    "import time\n",
    "import subprocess\n",
    "import json"
   ]
  },
  {
   "cell_type": "code",
   "execution_count": 32,
   "id": "d561bd07",
   "metadata": {},
   "outputs": [],
   "source": [
    "import wolframalpha\n",
    "import requests\n",
    "import webbrowser\n",
    "import wikipedia\n",
    "import datetime"
   ]
  },
  {
   "cell_type": "code",
   "execution_count": 33,
   "id": "1c2f186c",
   "metadata": {},
   "outputs": [],
   "source": [
    "import speech_recognition as sr\n",
    "import pyttsx3"
   ]
  },
  {
   "cell_type": "code",
   "execution_count": 34,
   "id": "f1ff29e6",
   "metadata": {},
   "outputs": [
    {
     "name": "stdout",
     "output_type": "stream",
     "text": [
      "LOADING YOUR A.I PERSONAL ASSISTANT JARVIS\n"
     ]
    }
   ],
   "source": [
    "print('LOADING YOUR A.I PERSONAL ASSISTANT JARVIS')"
   ]
  },
  {
   "cell_type": "code",
   "execution_count": 35,
   "id": "ad5c51f6",
   "metadata": {},
   "outputs": [],
   "source": [
    "engine = pyttsx3.init('sapi5')\n",
    "voices = engine.getProperty('voices')\n",
    "engine.setProperty(\"voice\",'voices[1].id')"
   ]
  },
  {
   "cell_type": "code",
   "execution_count": 36,
   "id": "9a380eeb",
   "metadata": {},
   "outputs": [],
   "source": [
    "def speak(text):\n",
    "    engine.say(text)\n",
    "    engine.runAndWait()"
   ]
  },
  {
   "cell_type": "code",
   "execution_count": 37,
   "id": "71d1c64a",
   "metadata": {},
   "outputs": [],
   "source": [
    "def wishMe():\n",
    "    hour = datetime.datetime.now().hour\n",
    "    if hour >= 0 and hour < 12:\n",
    "        speak(\"hello,good moring Mr.Rayan\")\n",
    "        print(\"hello,good morning Mr.Rayan\")\n",
    "    elif hour >= 12 and hour <=18:\n",
    "        speak(\"hello,good morning Mr.Rayan\")\n",
    "        print(\"hello,good morning Mr.Rayan\")\n",
    "    else:\n",
    "        speak(\"Its already the night time better go to sleep\")\n",
    "        print(\"Its already the night time better go to sleep\")"
   ]
  },
  {
   "cell_type": "code",
   "execution_count": 38,
   "id": "ec54ce99",
   "metadata": {},
   "outputs": [],
   "source": [
    "def takeCommand():\n",
    "    r = sr.Recongnizer()\n",
    "    with sr.Microphone() as source:\n",
    "        print(\"i AM LISTENING\")\n",
    "        audio = r.listen(source)\n",
    "        \n",
    "        try:\n",
    "            statement = r.recongnize_google(audio,language='eng-india')\n",
    "            print(f\"user said:{statement}\\n\")\n",
    "            \n",
    "        except  Exeception as e:\n",
    "            speak(\"pardon me, please say that again\")\n",
    "            return\"None\"\n",
    "        return statement"
   ]
  },
  {
   "cell_type": "code",
   "execution_count": 39,
   "id": "188000a1",
   "metadata": {},
   "outputs": [
    {
     "name": "stdout",
     "output_type": "stream",
     "text": [
      "hello,good morning Mr.Rayan\n"
     ]
    }
   ],
   "source": [
    "speak(\"LOADING YOUR PERSONAL A.I ASSISTANT JARVIS\")\n",
    "wishMe()"
   ]
  },
  {
   "cell_type": "code",
   "execution_count": 43,
   "id": "e349eae4",
   "metadata": {},
   "outputs": [
    {
     "ename": "IndentationError",
     "evalue": "unindent does not match any outer indentation level (<tokenize>, line 79)",
     "output_type": "error",
     "traceback": [
      "\u001b[1;36m  File \u001b[1;32m<tokenize>:79\u001b[1;36m\u001b[0m\n\u001b[1;33m    elif \"search\" in statement:\u001b[0m\n\u001b[1;37m    ^\u001b[0m\n\u001b[1;31mIndentationError\u001b[0m\u001b[1;31m:\u001b[0m unindent does not match any outer indentation level\n"
     ]
    }
   ],
   "source": [
    "if__name__=='__main__':\n",
    "    \n",
    "    \n",
    "    while True:\n",
    "        speak(\"Tell me How can i help you?\")\n",
    "        statment = takeCommand().lower()\n",
    "        if statement == 0:\n",
    "            continue\n",
    "            \n",
    "        if \"good bye\" in statement or \"ok bye\"  in statement or \"stop\" in statement:\n",
    "            speak(\"Your personal AI assistant JARVIS is shutting down,Good bye\")\n",
    "            print(\"Your personal AI assistant JARVIS is shutting down,Good bye\")\n",
    "            break\n",
    "            \n",
    "        if 'wikipedia' in statement:\n",
    "            speak(\"searching wikipedia....\")\n",
    "            statement = statement.replace(\"wikipedia\",\"\")\n",
    "            results = wikipidia.summary(statement ,sentence = 3)\n",
    "            speak(\"According to wikipedia...\")\n",
    "            print(results)\n",
    "            speak(results)\n",
    "            \n",
    "        elif \"open youtube\" in statement:\n",
    "            webbrowser.open_new_tab(\"http://www.youtube.com\")\n",
    "            speak(\"Youtube is open for you\")\n",
    "            time.sleep(5)\n",
    "            \n",
    "        elif \"open gmail \"in statement:\n",
    "            webbrowser.open_new_tab(\"gmail.com\")\n",
    "            speak(\"your email is open for you\")\n",
    "            time.sleep(5)\n",
    "            \n",
    "        elif \"open google\" in statement:\n",
    "            webbrowser.open_new_tab(\"http://www.google.com\")\n",
    "            speak(\"google search is open for you\")    \n",
    "            time.sleep(5)\n",
    "            \n",
    "        elif \"weather\" in statement:   \n",
    "            api_key = \"8ef61edcf1c576d65d836254e11ea420\"\n",
    "            base_url = \"https://api.openweathermap.org/data/2.5/weather?\"\n",
    "            speak(\"whats the city name\")\n",
    "            city_name = takeCommand()\n",
    "            complete_url =  base_url +\"appid = \"+api_key+\"&q=\"+city_name\n",
    "            response = requests.get(complete_url)\n",
    "            x = response.json()\n",
    "            if x[\"cod\"]!=\"404\":\n",
    "                y = x[\"main\"]\n",
    "                current_temperature = y[\"temp\"]\n",
    "                current_humidity = y[\"humidity\"]\n",
    "                weather_description = z[0][\"descrition\"]\n",
    "                speak(\" the temprature in kelvin unit is\"+ str(current_temperature)+\"\\n humidity in percentage is\" + str(current_humidity)\"\\n weather description\"+ str(weather_description))\n",
    "                print(\" the temprature in kelvin unit is\"+ str(current_temperature)+\"\\n humidity in percentage is\" + str(current_humidity)\"\\n weather description\"+ str(weather_description))\n",
    "            else: \n",
    "                speak(\"city not found\")\n",
    "                print(\"city not found\")\n",
    "                \n",
    "        elif\"time\" in statement:\n",
    "            strTime = datetime.datetime.now().strtime(\"%H:%M:%S\")\n",
    "            speak(f\"the time is {strTime}\")\n",
    "            \n",
    "        elif \"who are you\" in statement or \"what can you do\" in statement: \n",
    "            speak(\"I am JARVIS version 1 point 0 your personal assistant. i am programmed minor tasks like'\n",
    "                  'opening youtube, google chrome,gmail and stack overflow, predict time,take a photo,search wikipedia ,predict weather\n",
    "                 'in different cities,get top headline news from times of India and you can ask me comptational or geographical questions too! ' \n",
    "                  \")\n",
    "        elif\"who made you\" in statement or \"who created you\"in statement or \"who dicoverd you \" in statement:\n",
    "          speak(\"I WAS BUILT BY IRONMAN\")        \n",
    "          print(\"I WAS BUILT BY IRONMAN\")       \n",
    "        \n",
    "        elif\"open stack overflow\" in statement:\n",
    "             webbrowser.open_new_tab(\"http://stackoverflow.com/login\")\n",
    "             time.sleep(5)\n",
    "                  \n",
    "        elif\"news\" in statement:\n",
    "               news= webbrowser.open_new_tab(\"http://timesofindia.indiantimes.com/home/headlines\")\n",
    "               speak(\"here are some headlines for you from times of India - happy reading \") \n",
    "               time.sleep(7)   \n",
    "               \n",
    "         elif \"search\" in statement:\n",
    "              statement = statement.replace(\"search\",\" \")\n",
    "              webbrowser.open_new_tab(\"statement\")    \n",
    "              time.sleep(5)    \n",
    "                  \n",
    "         elif\"ask\" in statement:\n",
    "              speak(\"I can answer to computational and geographical question too just try me!! what do you want to ask\")  \n",
    "              question = takeCommand()\n",
    "              app_id = \"R2K75H-7ELALHR35X\"\n",
    "              client = wolframalpha.client('R2K75H-7ELALHR35X')\n",
    "              res = client.query(question)\n",
    "              answer = next(res.results).text\n",
    "              speak(answer)    \n",
    "              print(answer)\n",
    "              \n",
    "           elif\"log off\" in statement or \"sign out\" in statement or \"shut down \"in statement:  \n",
    "                speak(\" ok,your PC will shut dowm in 10 second - make sure you have saved and exit from all application\")\n",
    "                subprocess.calll(['shutdown',\"/1\"])\n",
    "time.sleep(3)                  \n",
    "                  \n",
    "                \n",
    "                  \n",
    "                  "
   ]
  },
  {
   "cell_type": "code",
   "execution_count": null,
   "id": "e5c69a81",
   "metadata": {},
   "outputs": [],
   "source": []
  },
  {
   "cell_type": "code",
   "execution_count": null,
   "id": "bc83bed3",
   "metadata": {},
   "outputs": [],
   "source": []
  },
  {
   "cell_type": "code",
   "execution_count": null,
   "id": "808bc6ae",
   "metadata": {},
   "outputs": [],
   "source": []
  },
  {
   "cell_type": "code",
   "execution_count": null,
   "id": "a011f76e",
   "metadata": {},
   "outputs": [],
   "source": []
  },
  {
   "cell_type": "code",
   "execution_count": null,
   "id": "176b86d1",
   "metadata": {},
   "outputs": [],
   "source": []
  }
 ],
 "metadata": {
  "kernelspec": {
   "display_name": "Python 3 (ipykernel)",
   "language": "python",
   "name": "python3"
  },
  "language_info": {
   "codemirror_mode": {
    "name": "ipython",
    "version": 3
   },
   "file_extension": ".py",
   "mimetype": "text/x-python",
   "name": "python",
   "nbconvert_exporter": "python",
   "pygments_lexer": "ipython3",
   "version": "3.11.4"
  }
 },
 "nbformat": 4,
 "nbformat_minor": 5
}
