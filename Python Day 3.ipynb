{
 "cells": [
  {
   "cell_type": "markdown",
   "metadata": {},
   "source": [
    "# In this session, we are going to explore other container objects and functions\n",
    "\n",
    "## In this session, we are going to learn the following key topics:\n",
    "*   Tuple\n",
    "*   Set\n",
    "*   Dictionary\n",
    "*   Function\n",
    "*   Lambda\n",
    "*   Iterator\n",
    "*   Generator\n",
    "*   Map\n",
    "*   Reduce\n",
    "*   Filter"
   ]
  },
  {
   "cell_type": "markdown",
   "metadata": {},
   "source": [
    "# Tuples\n",
    "\n",
    "In Python, tuples are similar to lists but they are immutable i.e. they cannot be changed. You would use the tuples to present data that shouldn't be changed, such as days of week or dates on  a calendar.\n",
    "\n",
    "In this section, we will get a brief overview of the following key topics:\n",
    "\n",
    "    1.) Constructing Tuples\n",
    "    2.) Basic Tuple Methods\n",
    "    3.) Immutability\n",
    "    4.) When to Use Tuples\n",
    "\n",
    "You'll have an intuition of how to use tuples based on what you've learned about lists. But, Tuples work very similar to lists but the  major difference is tuples are immutable.\n",
    "\n",
    "## Constructing Tuples\n",
    "\n",
    "The construction of tuples use () with elements separated by commas where in the arguments will be passed within brackets. For example:"
   ]
  },
  {
   "cell_type": "code",
   "execution_count": 1,
   "metadata": {},
   "outputs": [],
   "source": [
    "# Can create a tuple with mixed types\n",
    "t=(1,2,3)\n"
   ]
  },
  {
   "cell_type": "code",
   "execution_count": 2,
   "metadata": {},
   "outputs": [
    {
     "data": {
      "text/plain": [
       "3"
      ]
     },
     "execution_count": 2,
     "metadata": {},
     "output_type": "execute_result"
    }
   ],
   "source": [
    "# Check len just like a list\n",
    "len(t)"
   ]
  },
  {
   "cell_type": "code",
   "execution_count": 4,
   "metadata": {},
   "outputs": [
    {
     "data": {
      "text/plain": [
       "('one', 2)"
      ]
     },
     "execution_count": 4,
     "metadata": {},
     "output_type": "execute_result"
    }
   ],
   "source": [
    "# Can also mix object types\n",
    "t=('one',2)\n",
    "# Show\n",
    "t"
   ]
  },
  {
   "cell_type": "code",
   "execution_count": 6,
   "metadata": {},
   "outputs": [
    {
     "data": {
      "text/plain": [
       "'one'"
      ]
     },
     "execution_count": 6,
     "metadata": {},
     "output_type": "execute_result"
    }
   ],
   "source": [
    "# Use indexing just like we did in lists\n",
    "t[0]"
   ]
  },
  {
   "cell_type": "code",
   "execution_count": 7,
   "metadata": {},
   "outputs": [
    {
     "data": {
      "text/plain": [
       "2"
      ]
     },
     "execution_count": 7,
     "metadata": {},
     "output_type": "execute_result"
    }
   ],
   "source": [
    "# Slicing just like a list\n",
    "t[-1]"
   ]
  },
  {
   "cell_type": "markdown",
   "metadata": {},
   "source": [
    "## Basic Tuple Methods\n",
    "\n",
    "Tuples have built-in methods, but not as many as lists do. Let's see two samples of tuple built-in methods:"
   ]
  },
  {
   "cell_type": "code",
   "execution_count": 10,
   "metadata": {},
   "outputs": [
    {
     "data": {
      "text/plain": [
       "0"
      ]
     },
     "execution_count": 10,
     "metadata": {},
     "output_type": "execute_result"
    }
   ],
   "source": [
    "# Use .index to enter a value and return the index\n",
    "t.index('one')"
   ]
  },
  {
   "cell_type": "code",
   "execution_count": 11,
   "metadata": {},
   "outputs": [
    {
     "data": {
      "text/plain": [
       "1"
      ]
     },
     "execution_count": 11,
     "metadata": {},
     "output_type": "execute_result"
    }
   ],
   "source": [
    "# Use .count to count the number of times a value appears\n",
    "t.count('one')"
   ]
  },
  {
   "cell_type": "markdown",
   "metadata": {},
   "source": [
    "## Immutability\n",
    "\n",
    "As tuples are immutable, it can't be stressed enough and add more into it. To drive that point home:"
   ]
  },
  {
   "cell_type": "code",
   "execution_count": 12,
   "metadata": {},
   "outputs": [
    {
     "ename": "TypeError",
     "evalue": "'tuple' object does not support item assignment",
     "output_type": "error",
     "traceback": [
      "\u001b[1;31m---------------------------------------------------------------------------\u001b[0m",
      "\u001b[1;31mTypeError\u001b[0m                                 Traceback (most recent call last)",
      "Cell \u001b[1;32mIn[12], line 2\u001b[0m\n\u001b[0;32m      1\u001b[0m \u001b[38;5;66;03m#useb.index to enter a value and return the index\u001b[39;00m\n\u001b[1;32m----> 2\u001b[0m t[\u001b[38;5;241m0\u001b[39m]\u001b[38;5;241m=\u001b[39m\u001b[38;5;124m'\u001b[39m\u001b[38;5;124mchange\u001b[39m\u001b[38;5;124m'\u001b[39m\n",
      "\u001b[1;31mTypeError\u001b[0m: 'tuple' object does not support item assignment"
     ]
    }
   ],
   "source": [
    "#useb.index to enter a value and return the index\n",
    "t[0]='change'"
   ]
  },
  {
   "cell_type": "markdown",
   "metadata": {},
   "source": [
    "Because tuple being immutable they can't grow. Once a tuple is made we can not add to it."
   ]
  },
  {
   "cell_type": "code",
   "execution_count": 13,
   "metadata": {},
   "outputs": [
    {
     "ename": "AttributeError",
     "evalue": "'tuple' object has no attribute 'append'",
     "output_type": "error",
     "traceback": [
      "\u001b[1;31m---------------------------------------------------------------------------\u001b[0m",
      "\u001b[1;31mAttributeError\u001b[0m                            Traceback (most recent call last)",
      "Cell \u001b[1;32mIn[13], line 1\u001b[0m\n\u001b[1;32m----> 1\u001b[0m t\u001b[38;5;241m.\u001b[39mappend(\u001b[38;5;124m'\u001b[39m\u001b[38;5;124mnope\u001b[39m\u001b[38;5;124m'\u001b[39m)\n",
      "\u001b[1;31mAttributeError\u001b[0m: 'tuple' object has no attribute 'append'"
     ]
    }
   ],
   "source": [
    "t.append('nope')"
   ]
  },
  {
   "cell_type": "markdown",
   "metadata": {},
   "source": [
    "## When to use Tuples\n",
    "\n",
    "You may be wondering, \"Why to bother using tuples when they have a few available methods?\" \n",
    "\n",
    "Tuples are not used often as lists in programming but are used when immutability is necessary. While you are passing around an object and if you need to make sure that it does not get changed then tuple become your solution. It provides a convenient source of data integrity.\n",
    "\n",
    "You should now be able to create and use tuples in your programming as well as have a complete understanding of their immutability."
   ]
  },
  {
   "cell_type": "markdown",
   "metadata": {},
   "source": [
    "# Sets\n",
    "\n",
    "Sets are an unordered collection of *unique* elements which can be constructed using the set() function. \n",
    "\n",
    "Let's go ahead and create a set to see how it works."
   ]
  },
  {
   "cell_type": "code",
   "execution_count": 14,
   "metadata": {},
   "outputs": [],
   "source": [
    "x=set()"
   ]
  },
  {
   "cell_type": "code",
   "execution_count": 15,
   "metadata": {},
   "outputs": [],
   "source": [
    "# We add to sets with the add() method\n",
    "x.add(1)"
   ]
  },
  {
   "cell_type": "code",
   "execution_count": 16,
   "metadata": {},
   "outputs": [
    {
     "data": {
      "text/plain": [
       "{1}"
      ]
     },
     "execution_count": 16,
     "metadata": {},
     "output_type": "execute_result"
    }
   ],
   "source": [
    "#Show\n",
    "x"
   ]
  },
  {
   "cell_type": "markdown",
   "metadata": {},
   "source": [
    "Note that the curly brackets do not indicate a dictionary! Using only keys, you can draw analogies as a set being a dictionary.\n",
    "\n",
    "We know that a set has an only unique entry. Now, let us see what happens when we try to add something more that is already present in a set?"
   ]
  },
  {
   "cell_type": "code",
   "execution_count": 20,
   "metadata": {},
   "outputs": [],
   "source": [
    "# Add a different element\n",
    "x.add(2)"
   ]
  },
  {
   "cell_type": "code",
   "execution_count": 21,
   "metadata": {},
   "outputs": [
    {
     "data": {
      "text/plain": [
       "{1, 2}"
      ]
     },
     "execution_count": 21,
     "metadata": {},
     "output_type": "execute_result"
    }
   ],
   "source": [
    "#Show\n",
    "x\n"
   ]
  },
  {
   "cell_type": "code",
   "execution_count": 22,
   "metadata": {},
   "outputs": [],
   "source": [
    "# Try to add the same element\n",
    "x.add(1)"
   ]
  },
  {
   "cell_type": "code",
   "execution_count": 23,
   "metadata": {},
   "outputs": [
    {
     "data": {
      "text/plain": [
       "{1, 2}"
      ]
     },
     "execution_count": 23,
     "metadata": {},
     "output_type": "execute_result"
    }
   ],
   "source": [
    "#Show\n",
    "x"
   ]
  },
  {
   "cell_type": "markdown",
   "metadata": {},
   "source": [
    "Notice, how it won't place another 1 there as a set is only concerned with unique elements! However, We can cast a list with multiple repeat elements to a set to get the unique elements. For example:"
   ]
  },
  {
   "cell_type": "code",
   "execution_count": 25,
   "metadata": {},
   "outputs": [],
   "source": [
    "# Create a list with repeats\n",
    "l=[1,1,2,2,3,4,5,6,1,1]\n"
   ]
  },
  {
   "cell_type": "code",
   "execution_count": 26,
   "metadata": {},
   "outputs": [
    {
     "data": {
      "text/plain": [
       "{1, 2, 3, 4, 5, 6}"
      ]
     },
     "execution_count": 26,
     "metadata": {},
     "output_type": "execute_result"
    }
   ],
   "source": [
    "# Cast as set to get unique values\n",
    "set(l)"
   ]
  },
  {
   "cell_type": "markdown",
   "metadata": {},
   "source": [
    "# Dictionaries\n",
    "\n",
    "We have learned about \"Sequences\" in the previous session. Now, let's switch the gears and learn about \"mappings\" in Python. These dictionaries are nothing but hash tables in other programming languages.\n",
    "\n",
    "In this section, we will learn briefly about an introduction to dictionaries and what it consists of:\n",
    "\n",
    "    1.) Constructing a Dictionary\n",
    "    2.) Accessing objects from a Dictionary\n",
    "    3.) Nesting Dictionaries\n",
    "    4.) Basic Dictionary Methods\n",
    "\n",
    "Before we dive deep into this concept, let's understand what are Mappings? \n",
    "\n",
    "Mappings are a collection of objects that are stored by a \"key\". Unlike a sequence, mapping store objects by their relative position. This is an important distinction since mappings won't retain the order since they have objects defined by a key.\n",
    "\n",
    "A Python dictionary consists of a key and then an associated value. That value can be almost any Python object.\n",
    "\n",
    "\n",
    "## Constructing a Dictionary\n",
    "Let's see how we can construct dictionaries to get a better understanding of how they work!"
   ]
  },
  {
   "cell_type": "code",
   "execution_count": 27,
   "metadata": {},
   "outputs": [],
   "source": [
    "# Make a dictionary with {} and : to signify a key and a value\n",
    "my_dict={'key1':'values1','key2':'values2'}"
   ]
  },
  {
   "cell_type": "code",
   "execution_count": 28,
   "metadata": {},
   "outputs": [
    {
     "data": {
      "text/plain": [
       "'values2'"
      ]
     },
     "execution_count": 28,
     "metadata": {},
     "output_type": "execute_result"
    }
   ],
   "source": [
    "# Call values by their key\n",
    "my_dict['key2']"
   ]
  },
  {
   "cell_type": "markdown",
   "metadata": {},
   "source": [
    "Note that dictionaries are very flexible in the data types they can hold. For example:"
   ]
  },
  {
   "cell_type": "code",
   "execution_count": 30,
   "metadata": {},
   "outputs": [],
   "source": [
    "my_dict={'key1':123,'key2':[12,23,33],'key3':['item0','item1','item3']}"
   ]
  },
  {
   "cell_type": "code",
   "execution_count": 31,
   "metadata": {},
   "outputs": [
    {
     "data": {
      "text/plain": [
       "['item0', 'item1', 'item3']"
      ]
     },
     "execution_count": 31,
     "metadata": {},
     "output_type": "execute_result"
    }
   ],
   "source": [
    "#Let's call items from the dictionary\n",
    "my_dict['key3']"
   ]
  },
  {
   "cell_type": "code",
   "execution_count": 32,
   "metadata": {},
   "outputs": [
    {
     "data": {
      "text/plain": [
       "'item0'"
      ]
     },
     "execution_count": 32,
     "metadata": {},
     "output_type": "execute_result"
    }
   ],
   "source": [
    "# Can call an index on that value\n",
    "my_dict['key3'][0]"
   ]
  },
  {
   "cell_type": "code",
   "execution_count": 33,
   "metadata": {},
   "outputs": [
    {
     "data": {
      "text/plain": [
       "'ITEM0'"
      ]
     },
     "execution_count": 33,
     "metadata": {},
     "output_type": "execute_result"
    }
   ],
   "source": [
    "#Can then even call methods on that value\n",
    "my_dict['key3'][0].upper()"
   ]
  },
  {
   "cell_type": "markdown",
   "metadata": {},
   "source": [
    "We can effect the values of a key as well. For instance:"
   ]
  },
  {
   "cell_type": "code",
   "execution_count": 34,
   "metadata": {},
   "outputs": [
    {
     "data": {
      "text/plain": [
       "123"
      ]
     },
     "execution_count": 34,
     "metadata": {},
     "output_type": "execute_result"
    }
   ],
   "source": [
    "my_dict['key1']"
   ]
  },
  {
   "cell_type": "code",
   "execution_count": 35,
   "metadata": {},
   "outputs": [],
   "source": [
    "# Subtract 123 from the value\n",
    "my_dict['key1']=my_dict['key1']-123"
   ]
  },
  {
   "cell_type": "code",
   "execution_count": 36,
   "metadata": {},
   "outputs": [
    {
     "data": {
      "text/plain": [
       "0"
      ]
     },
     "execution_count": 36,
     "metadata": {},
     "output_type": "execute_result"
    }
   ],
   "source": [
    "#Check\n",
    "my_dict['key1']"
   ]
  },
  {
   "cell_type": "markdown",
   "metadata": {},
   "source": [
    "\\Note, Python has a built-in method of doing a self subtraction or addition (or multiplication or division). We could also use += or -= for the above statement. For example:"
   ]
  },
  {
   "cell_type": "code",
   "execution_count": 38,
   "metadata": {},
   "outputs": [
    {
     "data": {
      "text/plain": [
       "-246"
      ]
     },
     "execution_count": 38,
     "metadata": {},
     "output_type": "execute_result"
    }
   ],
   "source": [
    "# Set the object equal to itself minus 123 \n",
    "my_dict['key1']-=123\n",
    "my_dict['key1']"
   ]
  },
  {
   "cell_type": "markdown",
   "metadata": {},
   "source": [
    "We can also create keys by assignment. For instance if we started off with an empty dictionary, we could continually add to it:"
   ]
  },
  {
   "cell_type": "code",
   "execution_count": 43,
   "metadata": {},
   "outputs": [],
   "source": [
    "# Create a new dictionary\n",
    "d={}"
   ]
  },
  {
   "cell_type": "code",
   "execution_count": 47,
   "metadata": {},
   "outputs": [],
   "source": [
    "# Create a new key through assignment\n",
    "d['animal']='dog'"
   ]
  },
  {
   "cell_type": "code",
   "execution_count": 48,
   "metadata": {},
   "outputs": [],
   "source": [
    "# Can do this with any object\n",
    "d['animal']=42"
   ]
  },
  {
   "cell_type": "code",
   "execution_count": 49,
   "metadata": {},
   "outputs": [
    {
     "data": {
      "text/plain": [
       "{'animal': 42}"
      ]
     },
     "execution_count": 49,
     "metadata": {},
     "output_type": "execute_result"
    }
   ],
   "source": [
    "#Show\n",
    "d"
   ]
  },
  {
   "cell_type": "markdown",
   "metadata": {},
   "source": [
    "## Nesting with Dictionaries\n",
    "\n",
    "Let's understand how flexible Python is with nesting objects and calling methods on them. let's have a look at the dictionary nested inside a dictionary:"
   ]
  },
  {
   "cell_type": "code",
   "execution_count": 52,
   "metadata": {},
   "outputs": [],
   "source": [
    "# Dictionary nested inside a dictionary nested in side a dictionary\n",
    "d={'key1':{'nestkey':{'subnestkey':'value'}}}"
   ]
  },
  {
   "cell_type": "markdown",
   "metadata": {},
   "source": [
    "Thats the inception of dictionaries. Now, Let's see how we can grab that value:"
   ]
  },
  {
   "cell_type": "code",
   "execution_count": 55,
   "metadata": {},
   "outputs": [
    {
     "data": {
      "text/plain": [
       "'value'"
      ]
     },
     "execution_count": 55,
     "metadata": {},
     "output_type": "execute_result"
    }
   ],
   "source": [
    "# Keep calling the keys\n",
    "d['key1']['nestkey']['subnestkey']"
   ]
  },
  {
   "cell_type": "markdown",
   "metadata": {},
   "source": [
    "## A few Dictionary Methods\n",
    "\n",
    "There are a few methods we can call on a dictionary. Let's get a quick introduction to a few methods:"
   ]
  },
  {
   "cell_type": "code",
   "execution_count": 56,
   "metadata": {},
   "outputs": [],
   "source": [
    "# Create a typical dictionary\n",
    "d={'key1':1,'key2':2,'key3':3}"
   ]
  },
  {
   "cell_type": "code",
   "execution_count": 59,
   "metadata": {},
   "outputs": [
    {
     "data": {
      "text/plain": [
       "dict_keys(['key1', 'key2', 'key3'])"
      ]
     },
     "execution_count": 59,
     "metadata": {},
     "output_type": "execute_result"
    }
   ],
   "source": [
    "# Method to return a list of all keys \n",
    "d.keys() "
   ]
  },
  {
   "cell_type": "code",
   "execution_count": 60,
   "metadata": {},
   "outputs": [
    {
     "data": {
      "text/plain": [
       "dict_values([1, 2, 3])"
      ]
     },
     "execution_count": 60,
     "metadata": {},
     "output_type": "execute_result"
    }
   ],
   "source": [
    "# Method to grab all values\n",
    "\n",
    "d.values()"
   ]
  },
  {
   "cell_type": "code",
   "execution_count": 61,
   "metadata": {},
   "outputs": [
    {
     "data": {
      "text/plain": [
       "dict_items([('key1', 1), ('key2', 2), ('key3', 3)])"
      ]
     },
     "execution_count": 61,
     "metadata": {},
     "output_type": "execute_result"
    }
   ],
   "source": [
    "# Method to return tuples of all items  (we'll learn about tuples soon)\n",
    "d.items()"
   ]
  },
  {
   "cell_type": "markdown",
   "metadata": {},
   "source": []
  },
  {
   "cell_type": "markdown",
   "metadata": {},
   "source": [
    "## Dictionary Comprehensions\n",
    "\n",
    "Just like List Comprehensions, Dictionary Data Types also support their own version of comprehension for quick creation. It is not as commonly used as List Comprehensions, but the syntax is:"
   ]
  },
  {
   "cell_type": "code",
   "execution_count": 65,
   "metadata": {},
   "outputs": [
    {
     "name": "stdout",
     "output_type": "stream",
     "text": [
      "[0, 1, 2, 3, 4, 5, 6, 7, 8, 9]\n"
     ]
    }
   ],
   "source": [
    "print(list(range (10) ))"
   ]
  },
  {
   "cell_type": "code",
   "execution_count": 67,
   "metadata": {},
   "outputs": [
    {
     "data": {
      "text/plain": [
       "{0: 0, 1: 1, 2: 4, 3: 9, 4: 16, 5: 25, 6: 36, 7: 49, 8: 64, 9: 81}"
      ]
     },
     "execution_count": 67,
     "metadata": {},
     "output_type": "execute_result"
    }
   ],
   "source": [
    "{x:x**2  for x in range(10)}"
   ]
  },
  {
   "cell_type": "markdown",
   "metadata": {},
   "source": [
    "One of the reasons is the difficulty in structuring the key names that are not based on the values."
   ]
  },
  {
   "cell_type": "markdown",
   "metadata": {},
   "source": [
    "# Functions\n",
    "\n",
    "## Introduction to Functions\n",
    "\n",
    "What is a function in Python and how to create a function? \n",
    "\n",
    "Functions will be one of our main building blocks when we construct larger and larger amount of code to solve problems.\n",
    "\n",
    "**So what is a function?**\n",
    "\n",
    "A function groups a set of statements together to run the statements more than once. It allows us to specify parameters that can serve as inputs to the functions.\n",
    "\n",
    "Functions allow us to reuse the code instead of writing the code again and again. If you recall strings and lists, remember that len() function is used to find the length of a string. Since checking the length of a sequence is a common task, you would want to write a function that can do this repeatedly at command.\n",
    "\n",
    "Function is one of the most basic levels of reusing code in Python, and it will also allow us to start thinking of program design."
   ]
  },
  {
   "cell_type": "markdown",
   "metadata": {},
   "source": [
    "## def Statements\n",
    "\n",
    "Now, let us learn how to build a function and what is the syntax in Python.\n",
    "\n",
    "The syntax for def statements will be in the following form:"
   ]
  },
  {
   "cell_type": "code",
   "execution_count": 68,
   "metadata": {},
   "outputs": [],
   "source": [
    "def name_of_function(arg1,arg2):\n",
    " '''\n",
    " this is where the function's document string(doc-string) goes\n",
    " '''\n",
    "    # Do stuff here\n",
    "    #return desired result"
   ]
  },
  {
   "cell_type": "markdown",
   "metadata": {},
   "source": [
    "We begin with def then a space followed by the name of the function. Try to keep names relevant and simple as possible, for example, len() is a good name for a length() function. Also be careful with names, you wouldn't want to call a function the same name as a [built-in function in Python](https://docs.python.org/2/library/functions.html) (such as len).\n",
    "\n",
    "Next, comes the number of arguments separated by a comma within a pair of parenthesis which acts as input to the defined function,  reference them and the function definition with a colon.  \n",
    "\n",
    "Here comes the important step to indent to begin the code inside the defined functions properly. Also remember, Python makes use of *whitespace* to organize code and lot of other programming languages do not do this.\n",
    "\n",
    "Next, you'll see the doc-string where you write the basic description of the function. Using iPython and iPython Notebooks, you'll be able to read these doc-strings by pressing Shift+Tab after a function name. It is not mandatory to include docstrings with simple functions, but it is a good practice to put them as this will help the programmers to easily understand the code you write.\n",
    "\n",
    "After all this, you can begin writing the code you wish to execute.\n",
    "\n",
    "The best way to learn functions is by going through examples. So let's try to analyze and understand examples that relate back to the various objects and data structures we learned."
   ]
  },
  {
   "cell_type": "markdown",
   "metadata": {},
   "source": [
    "### Example 1: A simple print 'hello' function"
   ]
  },
  {
   "cell_type": "code",
   "execution_count": 70,
   "metadata": {},
   "outputs": [],
   "source": [
    "def say_hello():\n",
    "       print('hello')"
   ]
  },
  {
   "cell_type": "markdown",
   "metadata": {},
   "source": [
    "Call the function"
   ]
  },
  {
   "cell_type": "code",
   "execution_count": 71,
   "metadata": {},
   "outputs": [
    {
     "name": "stdout",
     "output_type": "stream",
     "text": [
      "hello\n"
     ]
    }
   ],
   "source": [
    "say_hello()"
   ]
  },
  {
   "cell_type": "markdown",
   "metadata": {},
   "source": [
    "### Example 2: A simple greeting function\n",
    "Let's write a function that greets people with their name."
   ]
  },
  {
   "cell_type": "code",
   "execution_count": 76,
   "metadata": {},
   "outputs": [],
   "source": [
    "def greeting(name):\n",
    "    print('Hello %s' %name)"
   ]
  },
  {
   "cell_type": "code",
   "execution_count": 79,
   "metadata": {},
   "outputs": [
    {
     "name": "stdout",
     "output_type": "stream",
     "text": [
      "Hello shravan\n"
     ]
    }
   ],
   "source": [
    "greeting(\"shravan\")"
   ]
  },
  {
   "cell_type": "markdown",
   "metadata": {},
   "source": [
    "## Using return\n",
    "Let's see some examples that use a return statement. Return allows a function to \"return\" a result that can then be stored as a variable, or used in whatever manner a user wants.\n",
    "\n",
    "### Example 3: Addition function"
   ]
  },
  {
   "cell_type": "code",
   "execution_count": 80,
   "metadata": {},
   "outputs": [],
   "source": [
    "def add_num(num1,num2):\n",
    "    return num1+num2"
   ]
  },
  {
   "cell_type": "code",
   "execution_count": 81,
   "metadata": {},
   "outputs": [
    {
     "data": {
      "text/plain": [
       "9"
      ]
     },
     "execution_count": 81,
     "metadata": {},
     "output_type": "execute_result"
    }
   ],
   "source": [
    "add_num(4,5)"
   ]
  },
  {
   "cell_type": "code",
   "execution_count": 85,
   "metadata": {},
   "outputs": [],
   "source": [
    "# Can also save as variable due to return\n",
    "result=add_num(4,5)"
   ]
  },
  {
   "cell_type": "code",
   "execution_count": 86,
   "metadata": {},
   "outputs": [
    {
     "name": "stdout",
     "output_type": "stream",
     "text": [
      "9\n"
     ]
    }
   ],
   "source": [
    "print(result)"
   ]
  },
  {
   "cell_type": "markdown",
   "metadata": {},
   "source": [
    "What happens if we input two strings?"
   ]
  },
  {
   "cell_type": "code",
   "execution_count": 87,
   "metadata": {},
   "outputs": [
    {
     "name": "stdout",
     "output_type": "stream",
     "text": [
      "one\ttwo\n"
     ]
    }
   ],
   "source": [
    "print(add_num('one\\t','two'))"
   ]
  },
  {
   "cell_type": "markdown",
   "metadata": {},
   "source": [
    "In Python we don't declare variable types, this function could be used to add numbers or sequences together! Going forward, We'll learn about adding in checks to make sure a user puts in the correct arguments into a function.\n",
    "\n",
    "Let's also start using *break*,*continue*, and *pass* statements in our code. We introduced these during the while lecture."
   ]
  },
  {
   "cell_type": "markdown",
   "metadata": {
    "collapsed": true
   },
   "source": [
    "Now, let's see a complete example of creating a function to check if a number is prime (a common interview exercise).\n",
    "\n",
    "We know a number is said to be prime if that number is only divisible by 1 and itself. Let's write our first version of the function to check all the numbers from 1 to N and perform modulo checks."
   ]
  },
  {
   "cell_type": "code",
   "execution_count": 98,
   "metadata": {},
   "outputs": [],
   "source": [
    "def is_prime(num):\n",
    "    '''\n",
    "    navie method of checking of primes.\n",
    "    '''\n",
    "    for n in range(2,num):\n",
    "        if num % n == 0:\n",
    "            print('not prime')\n",
    "            break\n",
    "        else:# If never mod zero, then prime\n",
    "            print('prime')\n",
    "    "
   ]
  },
  {
   "cell_type": "code",
   "execution_count": 102,
   "metadata": {},
   "outputs": [
    {
     "name": "stdout",
     "output_type": "stream",
     "text": [
      "prime\n",
      "prime\n",
      "prime\n"
     ]
    }
   ],
   "source": [
    "is_prime(5)"
   ]
  },
  {
   "cell_type": "markdown",
   "metadata": {},
   "source": [
    "Note that how we break the code after the print statement! We can actually improve this by only checking to the square root of the target number, also we can disregard all even numbers after checking for 2. We'll also switch to returning a boolean value to get an example of using return statements:"
   ]
  },
  {
   "cell_type": "code",
   "execution_count": 103,
   "metadata": {},
   "outputs": [],
   "source": [
    "import math\n",
    "\n",
    "def is_prime(num):\n",
    "    '''\n",
    "    a better method of checking for prime.\n",
    "    '''\n",
    "    if num %2 == 0 and num>2:\n",
    "        return False\n",
    "    for i in range(3,int(math.sqrt(num)) + 1,2):\n",
    "        if num % i == 0:\n",
    "            return False\n",
    "        return True"
   ]
  },
  {
   "cell_type": "code",
   "execution_count": 105,
   "metadata": {},
   "outputs": [
    {
     "name": "stdout",
     "output_type": "stream",
     "text": [
      "[3, 5]\n"
     ]
    }
   ],
   "source": [
    "print(list(range(3,6,2)))"
   ]
  },
  {
   "cell_type": "code",
   "execution_count": 106,
   "metadata": {},
   "outputs": [
    {
     "data": {
      "text/plain": [
       "True"
      ]
     },
     "execution_count": 106,
     "metadata": {},
     "output_type": "execute_result"
    }
   ],
   "source": [
    "is_prime(25)"
   ]
  },
  {
   "cell_type": "markdown",
   "metadata": {},
   "source": [
    "# Iterators and Generators"
   ]
  },
  {
   "cell_type": "markdown",
   "metadata": {},
   "source": [
    "In this section, you will be learning the differences between iterations and generation in Python and also how to construct our own generators with the \"yield\" statement. Generators allow us to generate as we go along instead of storing everything in the memory.\n",
    "\n",
    "We have learned, how to create functions with \"def\" and the \"return\" statement. In Python, Generator function allow us to write a function that can send back a value and then later resume to pick up where it was left. It also allows us to generate a sequence of values over time. The main difference in syntax will be the use of a **yield** statement.\n",
    "\n",
    "In most aspects, a generator function will appear very similar to a normal function. The main difference is when a generator function is called and compiled they become an object that supports an iteration protocol. That means when they are called they don't actually return a value and then exit, the generator functions will automatically suspend and resume their execution and state around the last point of value generation. \n",
    "\n",
    "The main advantage here is \"state suspension\" which means, instead of computing an entire series of values upfront and the generator functions can be suspended. To understand this concept better let's go ahead and learn how to create some generator functions."
   ]
  },
  {
   "cell_type": "code",
   "execution_count": 107,
   "metadata": {},
   "outputs": [],
   "source": [
    "# Generator function for the cube of numbers (power of 3)\n",
    "def gencubes(n):\n",
    "    for num in range(n):\n",
    "        yield num**3\n"
   ]
  },
  {
   "cell_type": "code",
   "execution_count": 108,
   "metadata": {
    "scrolled": true
   },
   "outputs": [
    {
     "name": "stdout",
     "output_type": "stream",
     "text": [
      "0\n",
      "1\n",
      "8\n",
      "27\n",
      "64\n",
      "125\n",
      "216\n",
      "343\n",
      "512\n",
      "729\n"
     ]
    }
   ],
   "source": [
    "for x in gencubes(10):\n",
    "    print(x)"
   ]
  },
  {
   "cell_type": "markdown",
   "metadata": {},
   "source": [
    "Great! since we have a generator function we don't have to keep track of every single cube we created.\n",
    "\n",
    "Generators are the best for calculating large sets of results (particularly in calculations that involve loops themselves) when we don't want to allocate memory for all of the results at the same time. \n",
    "\n",
    "Let's create another sample generator which calculates [fibonacci](https://en.wikipedia.org/wiki/Fibonacci_number) numbers:"
   ]
  },
  {
   "cell_type": "code",
   "execution_count": 8,
   "metadata": {},
   "outputs": [
    {
     "ename": "IndentationError",
     "evalue": "unexpected indent (1434413132.py, line 6)",
     "output_type": "error",
     "traceback": [
      "\u001b[1;36m  Cell \u001b[1;32mIn[8], line 6\u001b[1;36m\u001b[0m\n\u001b[1;33m    a = 1\u001b[0m\n\u001b[1;37m    ^\u001b[0m\n\u001b[1;31mIndentationError\u001b[0m\u001b[1;31m:\u001b[0m unexpected indent\n"
     ]
    }
   ],
   "source": [
    "def genfibon(n):\n",
    " '''\n",
    " generate a fibonacci sequence up to n\n",
    "    \n",
    " '''\n",
    "    a = 1\n",
    "    b = 1\n",
    "    for i in range(10):\n",
    "        yield a\n",
    "        a,b=b,a+b"
   ]
  },
  {
   "cell_type": "code",
   "execution_count": 9,
   "metadata": {},
   "outputs": [
    {
     "ename": "NameError",
     "evalue": "name 'genfibon' is not defined",
     "output_type": "error",
     "traceback": [
      "\u001b[1;31m---------------------------------------------------------------------------\u001b[0m",
      "\u001b[1;31mNameError\u001b[0m                                 Traceback (most recent call last)",
      "Cell \u001b[1;32mIn[9], line 1\u001b[0m\n\u001b[1;32m----> 1\u001b[0m \u001b[38;5;28;01mfor\u001b[39;00m num \u001b[38;5;129;01min\u001b[39;00m genfibon(\u001b[38;5;241m10\u001b[39m): \n\u001b[0;32m      2\u001b[0m     \u001b[38;5;28mprint\u001b[39m(num)\n",
      "\u001b[1;31mNameError\u001b[0m: name 'genfibon' is not defined"
     ]
    }
   ],
   "source": [
    "for num in genfibon(10): \n",
    "    print(num)"
   ]
  },
  {
   "cell_type": "markdown",
   "metadata": {},
   "source": [
    "What if this was a normal function, what would it look like?"
   ]
  },
  {
   "cell_type": "code",
   "execution_count": 12,
   "metadata": {},
   "outputs": [],
   "source": [
    "def fibon(n):\n",
    "    a=1\n",
    "    b=1\n",
    "    output=[]\n",
    "    for i in range(n):\n",
    "        output.append(a)\n",
    "        a,b =b, a+b\n",
    "    return output    "
   ]
  },
  {
   "cell_type": "code",
   "execution_count": 13,
   "metadata": {},
   "outputs": [
    {
     "data": {
      "text/plain": [
       "[1, 1, 2, 3, 5, 8, 13, 21, 34, 55]"
      ]
     },
     "execution_count": 13,
     "metadata": {},
     "output_type": "execute_result"
    }
   ],
   "source": [
    "fibon(10)"
   ]
  },
  {
   "cell_type": "markdown",
   "metadata": {},
   "source": [
    "Note, if we call some huge value of \"n\", the second function will have to keep track of every single result. In our case, we only care about the previous result to generate the next one.\n",
    "\n",
    "\n",
    "## next() and iter() built-in functions\n",
    "\n",
    "A key to fully understand generators is the next() and the iter() function.\n",
    "\n",
    "The next function allows us to access the next element in a sequence. Let's check how it works."
   ]
  },
  {
   "cell_type": "code",
   "execution_count": 36,
   "metadata": {},
   "outputs": [],
   "source": [
    "def simple_gen():\n",
    "    for x in range(4):\n",
    "        yield x"
   ]
  },
  {
   "cell_type": "code",
   "execution_count": 37,
   "metadata": {},
   "outputs": [],
   "source": [
    "# Assign simple_gen \n",
    "g= simple_gen()"
   ]
  },
  {
   "cell_type": "code",
   "execution_count": 38,
   "metadata": {},
   "outputs": [
    {
     "name": "stdout",
     "output_type": "stream",
     "text": [
      "0\n"
     ]
    }
   ],
   "source": [
    "\n",
    "print(next(g))"
   ]
  },
  {
   "cell_type": "code",
   "execution_count": 39,
   "metadata": {},
   "outputs": [
    {
     "name": "stdout",
     "output_type": "stream",
     "text": [
      "1\n"
     ]
    }
   ],
   "source": [
    "\n",
    "print(next(g))"
   ]
  },
  {
   "cell_type": "code",
   "execution_count": 40,
   "metadata": {},
   "outputs": [
    {
     "name": "stdout",
     "output_type": "stream",
     "text": [
      "2\n"
     ]
    }
   ],
   "source": [
    "\n",
    "print(next(g))"
   ]
  },
  {
   "cell_type": "code",
   "execution_count": 41,
   "metadata": {},
   "outputs": [
    {
     "name": "stdout",
     "output_type": "stream",
     "text": [
      "3\n"
     ]
    }
   ],
   "source": [
    "\n",
    "print(next(g))"
   ]
  },
  {
   "cell_type": "code",
   "execution_count": 42,
   "metadata": {},
   "outputs": [
    {
     "ename": "StopIteration",
     "evalue": "",
     "output_type": "error",
     "traceback": [
      "\u001b[1;31m---------------------------------------------------------------------------\u001b[0m",
      "\u001b[1;31mStopIteration\u001b[0m                             Traceback (most recent call last)",
      "Cell \u001b[1;32mIn[42], line 1\u001b[0m\n\u001b[1;32m----> 1\u001b[0m \u001b[38;5;28mprint\u001b[39m(\u001b[38;5;28mnext\u001b[39m(g))\n",
      "\u001b[1;31mStopIteration\u001b[0m: "
     ]
    }
   ],
   "source": [
    "\n",
    "print(next(g))"
   ]
  },
  {
   "cell_type": "markdown",
   "metadata": {},
   "source": [
    "After yielding all the values next() caused a StopIteration error. What this error informs us that all the values have been yielded. \n",
    "\n",
    "You might be wondering that why don’t we get this error while using a for loop? The \"for loop\" automatically catches this error and stops calling next. \n",
    "\n",
    "Let's go ahead and check out how to use iter(). You remember that strings are iterable:"
   ]
  },
  {
   "cell_type": "code",
   "execution_count": 43,
   "metadata": {},
   "outputs": [
    {
     "name": "stdout",
     "output_type": "stream",
     "text": [
      "h\n",
      "e\n",
      "l\n",
      "l\n",
      "o\n"
     ]
    }
   ],
   "source": [
    "s = 'hello'\n",
    "#Iterate over string\n",
    "for i in s:\n",
    "    print(i)\n"
   ]
  },
  {
   "cell_type": "markdown",
   "metadata": {},
   "source": [
    "But that doesn't mean the string itself is an *iterator*! We can check this with the next() function:"
   ]
  },
  {
   "cell_type": "code",
   "execution_count": 44,
   "metadata": {},
   "outputs": [
    {
     "ename": "TypeError",
     "evalue": "'str' object is not an iterator",
     "output_type": "error",
     "traceback": [
      "\u001b[1;31m---------------------------------------------------------------------------\u001b[0m",
      "\u001b[1;31mTypeError\u001b[0m                                 Traceback (most recent call last)",
      "Cell \u001b[1;32mIn[44], line 1\u001b[0m\n\u001b[1;32m----> 1\u001b[0m \u001b[38;5;28mnext\u001b[39m(s)\n",
      "\u001b[1;31mTypeError\u001b[0m: 'str' object is not an iterator"
     ]
    }
   ],
   "source": [
    "next(s)"
   ]
  },
  {
   "cell_type": "markdown",
   "metadata": {},
   "source": [
    "This means that a string object supports iteration, but we can not directly iterate over it as we could with a generator function. The iter() function allows us to do just that!"
   ]
  },
  {
   "cell_type": "code",
   "execution_count": 45,
   "metadata": {},
   "outputs": [],
   "source": [
    "s_iter=iter(s)"
   ]
  },
  {
   "cell_type": "code",
   "execution_count": 47,
   "metadata": {},
   "outputs": [
    {
     "data": {
      "text/plain": [
       "'h'"
      ]
     },
     "execution_count": 47,
     "metadata": {},
     "output_type": "execute_result"
    }
   ],
   "source": [
    "next(s_iter)"
   ]
  },
  {
   "cell_type": "code",
   "execution_count": 48,
   "metadata": {},
   "outputs": [
    {
     "data": {
      "text/plain": [
       "'e'"
      ]
     },
     "execution_count": 48,
     "metadata": {},
     "output_type": "execute_result"
    }
   ],
   "source": [
    "next(s_iter)"
   ]
  },
  {
   "cell_type": "markdown",
   "metadata": {},
   "source": [
    "# map()\n",
    "\n",
    "The map() is a function that takes in two arguments: \n",
    "1. A function \n",
    "2. A sequence iterable. \n",
    "\n",
    "In the form: map(function, sequence)\n",
    "    \n",
    "The first argument is the name of a function and the second a sequence (e.g. a list). map() applies the function to all the elements of the sequence. It returns a new list with the elements changed by the function.\n",
    "\n",
    "When we went over list comprehension we created a small expression to convert Fahrenheit to Celsius. Let's do the same here but use map. \n",
    "\n",
    "We'll start with two functions:"
   ]
  },
  {
   "cell_type": "code",
   "execution_count": 58,
   "metadata": {},
   "outputs": [],
   "source": [
    "def fahrenheit(T):\n",
    "    return((float(9)/5)*T + 32)\n",
    "def celsius(T):\n",
    "    return(float(5)/9)*(T-32)\n",
    "temp =[0,22,5,40,100]"
   ]
  },
  {
   "cell_type": "markdown",
   "metadata": {},
   "source": [
    "Now let's see map() in action:"
   ]
  },
  {
   "cell_type": "code",
   "execution_count": 59,
   "metadata": {},
   "outputs": [
    {
     "data": {
      "text/plain": [
       "[32.0, 71.6, 41.0, 104.0, 212.0]"
      ]
     },
     "execution_count": 59,
     "metadata": {},
     "output_type": "execute_result"
    }
   ],
   "source": [
    "F_temps= list(map(fahrenheit,temp))\n",
    "#Show\n",
    "F_temps"
   ]
  },
  {
   "cell_type": "code",
   "execution_count": 60,
   "metadata": {},
   "outputs": [
    {
     "data": {
      "text/plain": [
       "[0.0, 21.999999999999996, 5.0, 40.0, 100.0]"
      ]
     },
     "execution_count": 60,
     "metadata": {},
     "output_type": "execute_result"
    }
   ],
   "source": [
    "# Convert back\n",
    "list(map(celsius,F_temps))"
   ]
  },
  {
   "cell_type": "markdown",
   "metadata": {},
   "source": [
    "In the example above, we haven't used a lambda expression. By using lambda, it is not necessary to define and name fahrenheit() and celsius() functions."
   ]
  },
  {
   "cell_type": "code",
   "execution_count": 61,
   "metadata": {},
   "outputs": [
    {
     "data": {
      "text/plain": [
       "[0.0, 21.999999999999996, 5.0, 40.0, 100.0]"
      ]
     },
     "execution_count": 61,
     "metadata": {},
     "output_type": "execute_result"
    }
   ],
   "source": [
    "list(map(lambda x: (5.0/9)*(x-32),F_temps))"
   ]
  },
  {
   "cell_type": "markdown",
   "metadata": {},
   "source": [
    "Map is more commonly used with lambda expressions since the entire purpose of a map() is to save effort on creating manual for loops."
   ]
  },
  {
   "cell_type": "markdown",
   "metadata": {},
   "source": [
    "map() can be applied to more than one iterable. The iterables must have the same length.\n",
    "\n",
    "For instance, if we are working with two lists-map() will apply its lambda function to the elements of the argument lists, i.e. it first applies to the elements with the 0th index, then to the elements with the 1st index until the nth index is reached.\n",
    "\n",
    "For example, let's map a lambda expression to two lists:"
   ]
  },
  {
   "cell_type": "code",
   "execution_count": 70,
   "metadata": {},
   "outputs": [
    {
     "data": {
      "text/plain": [
       "[6, 8, 10, 12]"
      ]
     },
     "execution_count": 70,
     "metadata": {},
     "output_type": "execute_result"
    }
   ],
   "source": [
    "a=[1,2,3,4]\n",
    "b=[5,6,7,8]\n",
    "c=[9,10,11,12]\n",
    "\n",
    "list(map(lambda x,y:x+y,a,b))"
   ]
  },
  {
   "cell_type": "code",
   "execution_count": 73,
   "metadata": {},
   "outputs": [
    {
     "data": {
      "text/plain": [
       "[15, 18, 21, 24]"
      ]
     },
     "execution_count": 73,
     "metadata": {},
     "output_type": "execute_result"
    }
   ],
   "source": [
    "# Now all three lists\n",
    "list(map(lambda x,y,z:x+y+z,a,b,c))"
   ]
  },
  {
   "cell_type": "markdown",
   "metadata": {},
   "source": [
    "In the above example, the parameter 'x' gets its values from the list 'a', while 'y' gets its values from 'b' and 'z' from list 'c'. Go ahead and create your own example to make sure that you completely understand mapping more than one iterable."
   ]
  },
  {
   "cell_type": "markdown",
   "metadata": {},
   "source": [
    "# reduce()\n",
    "\n",
    "The function reduce(function, sequence) continually applies the function to the sequence. It then returns a single value. \n",
    "\n",
    "If seq = [s1, s2, s3, ... , sn], calling reduce(function, sequence) works like this:\n",
    "\n",
    "* At first the first two elements of sequence will be applied to function, i.e. func(s1,s2) \n",
    "* The list on which reduce() works looks like this: [ function(s1, s2), s3, ... , sn ]\n",
    "* In the next step the function will be applied on the previous result and the third element of the list, i.e. function(function(s1, s2),s3)\n",
    "* The list looks like: [ function(function(s1, s2),s3), ... , sn ]\n",
    "* It continues like this until just one element is left and return this element as the result of reduce()\n",
    "\n",
    "Let's see an example:"
   ]
  },
  {
   "cell_type": "code",
   "execution_count": 76,
   "metadata": {},
   "outputs": [
    {
     "data": {
      "text/plain": [
       "113"
      ]
     },
     "execution_count": 76,
     "metadata": {},
     "output_type": "execute_result"
    }
   ],
   "source": [
    "from functools import reduce\n",
    "lst =[47,11,42,13]\n",
    "reduce(lambda x,y: x+y, lst)"
   ]
  },
  {
   "cell_type": "markdown",
   "metadata": {},
   "source": [
    "Let's look at a diagram to get a better understanding of what is going on here:"
   ]
  },
  {
   "cell_type": "code",
   "execution_count": 7,
   "metadata": {},
   "outputs": [
    {
     "ename": "FileNotFoundError",
     "evalue": "No such file or directory: 'data:image/jpeg;base64,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'",
     "output_type": "error",
     "traceback": [
      "\u001b[1;31m---------------------------------------------------------------------------\u001b[0m",
      "\u001b[1;31mTypeError\u001b[0m                                 Traceback (most recent call last)",
      "File \u001b[1;32m~\\anaconda3\\Lib\\site-packages\\IPython\\core\\display.py:1045\u001b[0m, in \u001b[0;36mImage._data_and_metadata\u001b[1;34m(self, always_both)\u001b[0m\n\u001b[0;32m   1044\u001b[0m \u001b[38;5;28;01mtry\u001b[39;00m:\n\u001b[1;32m-> 1045\u001b[0m     b64_data \u001b[38;5;241m=\u001b[39m b2a_base64(\u001b[38;5;28mself\u001b[39m\u001b[38;5;241m.\u001b[39mdata, newline\u001b[38;5;241m=\u001b[39m\u001b[38;5;28;01mFalse\u001b[39;00m)\u001b[38;5;241m.\u001b[39mdecode(\u001b[38;5;124m\"\u001b[39m\u001b[38;5;124mascii\u001b[39m\u001b[38;5;124m\"\u001b[39m)\n\u001b[0;32m   1046\u001b[0m \u001b[38;5;28;01mexcept\u001b[39;00m \u001b[38;5;167;01mTypeError\u001b[39;00m \u001b[38;5;28;01mas\u001b[39;00m e:\n",
      "\u001b[1;31mTypeError\u001b[0m: a bytes-like object is required, not 'str'",
      "\nThe above exception was the direct cause of the following exception:\n",
      "\u001b[1;31mFileNotFoundError\u001b[0m                         Traceback (most recent call last)",
      "File \u001b[1;32m~\\anaconda3\\Lib\\site-packages\\IPython\\core\\formatters.py:974\u001b[0m, in \u001b[0;36mMimeBundleFormatter.__call__\u001b[1;34m(self, obj, include, exclude)\u001b[0m\n\u001b[0;32m    971\u001b[0m     method \u001b[38;5;241m=\u001b[39m get_real_method(obj, \u001b[38;5;28mself\u001b[39m\u001b[38;5;241m.\u001b[39mprint_method)\n\u001b[0;32m    973\u001b[0m     \u001b[38;5;28;01mif\u001b[39;00m method \u001b[38;5;129;01mis\u001b[39;00m \u001b[38;5;129;01mnot\u001b[39;00m \u001b[38;5;28;01mNone\u001b[39;00m:\n\u001b[1;32m--> 974\u001b[0m         \u001b[38;5;28;01mreturn\u001b[39;00m method(include\u001b[38;5;241m=\u001b[39minclude, exclude\u001b[38;5;241m=\u001b[39mexclude)\n\u001b[0;32m    975\u001b[0m     \u001b[38;5;28;01mreturn\u001b[39;00m \u001b[38;5;28;01mNone\u001b[39;00m\n\u001b[0;32m    976\u001b[0m \u001b[38;5;28;01melse\u001b[39;00m:\n",
      "File \u001b[1;32m~\\anaconda3\\Lib\\site-packages\\IPython\\core\\display.py:1035\u001b[0m, in \u001b[0;36mImage._repr_mimebundle_\u001b[1;34m(self, include, exclude)\u001b[0m\n\u001b[0;32m   1033\u001b[0m \u001b[38;5;28;01mif\u001b[39;00m \u001b[38;5;28mself\u001b[39m\u001b[38;5;241m.\u001b[39membed:\n\u001b[0;32m   1034\u001b[0m     mimetype \u001b[38;5;241m=\u001b[39m \u001b[38;5;28mself\u001b[39m\u001b[38;5;241m.\u001b[39m_mimetype\n\u001b[1;32m-> 1035\u001b[0m     data, metadata \u001b[38;5;241m=\u001b[39m \u001b[38;5;28mself\u001b[39m\u001b[38;5;241m.\u001b[39m_data_and_metadata(always_both\u001b[38;5;241m=\u001b[39m\u001b[38;5;28;01mTrue\u001b[39;00m)\n\u001b[0;32m   1036\u001b[0m     \u001b[38;5;28;01mif\u001b[39;00m metadata:\n\u001b[0;32m   1037\u001b[0m         metadata \u001b[38;5;241m=\u001b[39m {mimetype: metadata}\n",
      "File \u001b[1;32m~\\anaconda3\\Lib\\site-packages\\IPython\\core\\display.py:1047\u001b[0m, in \u001b[0;36mImage._data_and_metadata\u001b[1;34m(self, always_both)\u001b[0m\n\u001b[0;32m   1045\u001b[0m     b64_data \u001b[38;5;241m=\u001b[39m b2a_base64(\u001b[38;5;28mself\u001b[39m\u001b[38;5;241m.\u001b[39mdata, newline\u001b[38;5;241m=\u001b[39m\u001b[38;5;28;01mFalse\u001b[39;00m)\u001b[38;5;241m.\u001b[39mdecode(\u001b[38;5;124m\"\u001b[39m\u001b[38;5;124mascii\u001b[39m\u001b[38;5;124m\"\u001b[39m)\n\u001b[0;32m   1046\u001b[0m \u001b[38;5;28;01mexcept\u001b[39;00m \u001b[38;5;167;01mTypeError\u001b[39;00m \u001b[38;5;28;01mas\u001b[39;00m e:\n\u001b[1;32m-> 1047\u001b[0m     \u001b[38;5;28;01mraise\u001b[39;00m \u001b[38;5;167;01mFileNotFoundError\u001b[39;00m(\n\u001b[0;32m   1048\u001b[0m         \u001b[38;5;124m\"\u001b[39m\u001b[38;5;124mNo such file or directory: \u001b[39m\u001b[38;5;124m'\u001b[39m\u001b[38;5;132;01m%s\u001b[39;00m\u001b[38;5;124m'\u001b[39m\u001b[38;5;124m\"\u001b[39m \u001b[38;5;241m%\u001b[39m (\u001b[38;5;28mself\u001b[39m\u001b[38;5;241m.\u001b[39mdata)) \u001b[38;5;28;01mfrom\u001b[39;00m \u001b[38;5;21;01me\u001b[39;00m\n\u001b[0;32m   1049\u001b[0m md \u001b[38;5;241m=\u001b[39m {}\n\u001b[0;32m   1050\u001b[0m \u001b[38;5;28;01mif\u001b[39;00m \u001b[38;5;28mself\u001b[39m\u001b[38;5;241m.\u001b[39mmetadata:\n",
      "\u001b[1;31mFileNotFoundError\u001b[0m: No such file or directory: 'data:image/jpeg;base64,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'"
     ]
    },
    {
     "ename": "FileNotFoundError",
     "evalue": "No such file or directory: 'data:image/jpeg;base64,/9j/4AAQSkZJRgABAQAAAQABAAD/2wCEAAoHCBYVFRgVFhUYGBgaHRgYGRgaHBoaGhocGhwcGhwaGhgcIS4lHB4rHxoaJjgnKy8xNTU1GiU7QDszPy40NTEBDAwMEA8QHBISGjQhISE0NDQ0NDQxNDQ0MTE0NDQ0NDQxNDQ0NDQ0MTQ0NDE0NDQ0NDQ0NDE0NDQ0MTQ0NDQ0NP/AABEIAKgBKwMBIgACEQEDEQH/xAAbAAABBQEBAAAAAAAAAAAAAAAEAAECAwUGB//EAEgQAAEDAgMEBQkFBQYFBQAAAAEAAhEDIQQSMQVBUWEicYGRsQYTMkJSocHR8BRygpLhFSMzYqIkVLLC0vFDRGODsxY0U3OT/8QAGAEBAQEBAQAAAAAAAAAAAAAAAAECAwT/xAAhEQEBAQABBQACAwAAAAAAAAAAARECEiExQVEDIjJSof/aAAwDAQACEQMRAD8A8/a5rxY394VL3Ftjpy+HyQ9Aw0xb0Uax1pdCw0z8Vg/WZ3fLgeSBDpsf1C6CpS4fXzQmIwodJFnfWvhKs5JYyskKTbdS0KLWRlczpACZc4SfaEbupVYvCwM7JLfWGrmdfFvB3xV0CPMKBJKQTqmmASJSlOGqoipQpFiiQVNDApEJJ9QqGhKClCSBFNlKMwGAfVMMaTHpO0a0cXO3D38F3OwfJLJD3MzuLKr5cAWtyFkFlN+UkyXCXciBqFLR57UouaYc1zTAMEEGDoYO5KpRc0w5rmmAYIIsdDfcV7rV2Lh3VaZfhjUcK2VzntpPc8fZnHK6XwRIDssBoIsAg9s+TjcRTY00nEZcMAXGmH0w9wa403hxOg9F0iTqAAFOox4mllXSbf8AJCvh8zg0vYCZc0HMwAx02xYfzCRbdoucAWtDJ4STtagRNkyclMgZOCknhA8KEJ1IFBAFSSc1So0XPdlaJPuA4k7ggqIUojr4fNaX2am0XLjGrpAHYIQrcPnJyyG7p1PFTTFLGFx8SjmMawXuff28ByUmCOi0SeX171ezDgdI3P13lZt1cQZRLru04fWgV8jdHYhqtYuzN0gdpuArMIDkHb4lQVsplrDI3tHir6n8P8viFrY3C5gcw1i45afR4rMrsLWRrEe4oqtlctIb6sA/FEhgecwP18EC65/APBEOeWsa5uth4oLK+FDhB6Lh6LhaD9bu6Fl4lz2HK4kggidzgdb/AAW9h6zXyN4JbffHDiqcfAGR7ZnQ8Pj8VZcMc25u8XH1Yp2sJvCKGGykzdp+rqT3NaLAE749yvV8ST6qZRAEkp3X9EaKeTeTbw7OCi+sBYD6696i6ZrePvVNZ8qL3E6lNAVk9pb6ME4KQHJamzdjVKwzNblZMZyJk2sxurjcadsLSM1rSbXJNgN5PJb2x/J9z3DODAN2gwdJAc++SRewJiLLS2Ng6dJzmPgVOkG3LXuEWvJDRBcTlvpeQugoFgORoDemTY2u2SY6ye0rN5AnZOzqTIik10eZdGVoAcXk+iSZIgdIkutqNFpurAzFL1MT7A9dt0O2m1omIGWifS/mJKDxG0aLJzOY0llcDM9ok52xqeXuWfI4Pyi2xXdiqri57C2o/IxrnNFPL0BlDTAdlaJI1vxXpvknj6lXB0nVKeZ37hufojMG4hzWuvckhovv13rntoHZ9Ws17zSd+86cVGgOaKNs2V8EZ2tvzjfC29l7aw5aymx1PNGFY1rXsBltS4DQ7UBWjf2nRD6b5pGzMTBDmgjpjeDMctDzXD+U3kY1xL6TfNnNFgMhGXMMzG+hA1c21iSAuzx+KAY+WepivXHtDmhm4secnKYL/aFj5s39Leff1qS4rxHF4N9N2V7S0kAidHA6OadHN5hUL1jaGGw7qTWvY0AtpENc4AFxzF4b0pa8tLoc3hcHKFxOP8l6zGZ2tJBzuLCIe0NdlkAnpi7dL9ICJmNSo52E0KZanAV0QhMplqUJoiExapFqTGk2QM29tSrm1S0FrTrE75jRID1WXJ1PHkOARdDChlzc/WnzUtixUyi513mw0GnfHhqiGsLrCw4/XgrxS3usOClTfmdAFomeOnzU1VTntZYCTof1KfDyXPkzoBy1VBZb8SJww6T/AK3lQDubd/b/AIgrcOOiO3xVtPDGXE6Ge6ZRDaLR6qDeqsFll4zDwbW5LVdaJCoxTPrvUVhVcMDMWJBHJVV6ZDGg6ggeO9ab22P1vTtpSIInTVXUZmHb0x99/wAEsViOm4O0BgdUTdaDcDDmuGgeXEH+YRbu96zcczpu63eCAjBYPOYBtBKlitiZTnYC8OhuQwHNJ38x9XS2ZiHMeCBMsbY75e1vxRO1MWQ19RhLTkZBtI6bQY/q70GDjMOIdHRc30mEjTi3ny4XCzwFe57nOLySXEyTvTuYHQW672/Fp3jluW52ZUQpMpkkACSYHwROFwpfHAmN06Tv3Law2CY0QbyWHUDV15t0rdnWpaBtm7Ezgl3Bx35RHvceQtreRC7ttIU2wQ2eiCXVCTEExlyAASdAAOSxKWUAmJ6L9XTvtaFruxYjLlAGYaOj1PurNoy6z2tLXtpy4NIhsy4OLbTkAm0iTy3o2gbzlM5jv4N+6hs1mmNwOvPqU2YoAzB9bfy6kB9bGw0y0AZac66Ak+z19yooVRDnuZmL21DcaAkZGwRaAL8y7ihH4oPcWRIOQuv6rSbG28wI3jMiftAM29V/j1ICsRUY57B5pv8AE9n/AKDtejxv2IjB5Q1hFJsgYa8b84m+VCsrdNlvXJ1/6ThwWnh3HI05W6Yb1j/8n3UEtpYqWP6Hq4jj7X3VSagzehbOdx0yGfVUMVXJD+iPRr+t/N91Sfiw13oj0zvPsH+VQZwqsqZKT6JLQMO4lzCWuAdZubKbHfOuWLyY0n1WPY5hAia/Ra8t9YwQGRB5oKliZa3o6CideB6lXVrAgyN9TfPrHkqM/bfk62o97wXZrXGVzriQCIbmG6ZDoi5hcbi8G6mYcBwBBkGNYPHkYI3hehsf0jAi7NHFvuAQWMwzXm+pa6ZhzSZAGcEAuA6weBCso4LKmLVt7R2OWHo3kwBu0mzjrbcYOsSsplOTrA3k7lRDD4fMbmGjU7+oDeTCtq4Yeiyb6k6dphReJsNOfxV1AkiJ0QXUMOGCG3O8qwwy5uVe2AAByCGqsufxLLRYgTH3SfcU+FZ0vwj4K99MnLHs+IVtGiBfUwPcgFpYeR2oluHF4370U1inlTRS2krfNhWBllZZRVez8cajSHABzb20I4xxRFTeSbLEwD8r28zB6jZauJqZZJ0aC488u7vIQCmd4hXUN3YsvD4xz3Q6L6ciLjsWpSNhG+I+upAWGSB2rL2jRBdBvA1331hazBogNoMl56gqAcDhyXWE5QwW1gPaSY6pUdosPmHfdp/4gVs7EpwXE9SE29TLnOY3eWEzwAJ+I7k1PTkmAgypiBBjTd+oWgzZzzwUHbNeDce8LWs4Nw2Jpg5QQBJMhrpNouI5q8Y6nI6Z9T1XbnX3bln/AGB4vZSdhHnhPip2XGidoUr9M6OHoO4kjdvHciG7VoyemdZ9B+hbrpxWO/Zr+XYrKWzX7wPcnYxrDaVKB0jo22R2oN9yrONpQenxjov7NyEZs5/AQkdnP4DvCdjB9DaNEZiXmSR6jzDRYXDes/iKIbtOh7Z0I9CpqTb1Vk/s1/sz2hTbs2ofVHeE7GNkbXw+dp84YDiSclTTIWzGSdTEaq+jt/DtaG+cOlKehU1a7M71Nw790rnv2bU9lL9m1PZ94TIN7E7doOBDahkioIyVPWMtHobx3b4UX7YwxdPnbZpnzdXTLExk4249iwhsyqfU94+aj+yqtuhv5JkMb7NsYYNANWCBTHoVdWnpCzN3v3SqztXDkR53fU9SrvdLfU3ju3wsY7Hqj1N/0U37Jq7mT1fqmQbjtq4eTFa065KvD7k/VpVNTalGbVJsR6FS0xxZyKxf2bU3sI61azZVX2O20dimQwbiNoUzHTDhO9lSPRjQtk925YWJYzMMhkRPra8OkAZ+pKN+xPMg5RFrkDunVD1MI4GI7r+8KxATgrcMy5Rn2N4E9HSfSE9UceSkyg4XMXG4ie1LVkSYy4i9x8VcMOJM3uepFU6HRCnlustByy4VrWKwsUmBBGFYGqqpUy3iTu6t6tpPBuN9+0aohPga6DxVf2ocClX4dvfp7lSigKbN6L25UDWOG4lo8XfBBtedFLbbiWD7w8CEnlL4AMtB4Ge661cVUyssb6Dt/QFZTCjcW7os5z4W8SqC9iVjdnC4+PwU8bUGeN9jPgO34oXZBh8/yn4H4JsSZe48yB+Gw8EG7sZ0Z+oKnav8Rx6v8IQIqkGxiDPdp4lGYzp1D+GOfRCiwEwEm3ePmrsg3yff4IXFYyOiyDFs278IQrcS+fSPcFcTR7GommwcPBB4ern1s7dwPJHUXCCVFWW32VgbyPbbxUYDAXv1GvInRrR7X67gUC/HPcbdEcLE9pKo1GAX4JPZJtaFn08W8amRvBhHU6oMOGmhHsnd2IEQVMGLTr2ns4pOMwBqdOzUnkEqtYUhAGZx7+tx3T7I92pgsaLaGef1Kk1n+wWU7H1NxjkA2PfdX4TaN4ePxixHXCuI0chSDXaT4K2kbkdtt4OhSLS4m8Nb6R0kxJE7gBcnXQKKgw7tY1gTHXGitpAxoe5ZOL23HRpMGUaOIt+FoiO3uQ9LbVYakEcC0fBXBuupXRDKPLsQuzsYKolgh4u5h0cOS2GObGbdEyeHPgsjMxGAD2wRxvaR28FiYvZz2CR0m+00GOoncukxVdlNnnKs39Fm+dYje7eZs3r1wMR5UVDZrGNbwILz2kkD3KwZxplQfSV1PHtcYe3LO9vo9rdQO3sRFahAP+/cgtYywHV4JjQJkjcuofstowQfAziH5t8Tp1Zdy541mtET2KAKu6BI7O36KbDPnXUf7/BNid31p/uoYbV3V8QqIVzJ6ldhN4+rgquozpHrKtwgu7sCom9suPZ4KXmArmsubb0Rl5Ijm27lDbghretWsp6QVDygMNaOJ+XzUnkvhnhy0McegwcPkB8VmkStDaNgwcZ90KiWyrvEcHeChWID3D+Z1+0q3Yf8TsKHqu6bus+KAlrkXWdMka5GN7XNEnunvQhbfsCNxUNZMbqY/oPyCKy30YUA1Ems3gVRKMrsPRJuN15+upH0vS06Mhx4WEx9cUPRxTWgiDcRu580QyoOeiVTbQfORu6C483EkeAHvQbG3Rm0HjojflB75+Kow9SHSRKQE4fD5uUK5tAtm8gj37lCjiYno680Th64e4Ny7uPAEoFhnXk8GDhYiXe+EO2m6o4neTJ4BaDg0buaFwWLDWxlm8z2QkKm3ZYOrjvQeIwpZE3B0Pz71oDaQ9k7+CpxONDmxlOhG7W0eCdxbganQYd7S5v4cuYe8N7lbimONFrAbugv6z03f1FNsS7D98j+lqK2m9rA2Qbndyjip7PTCds8xY35oVzNQbFaz8cw7ndw581n4qs12gM/X6qofZ7yx7HjcR2jeF2zWDNk3F4PZlzkdrmnvXD4Z8G/UvTqTQpyWOI8psz6p3tYAB3ST3+A4LBdSXT7VxDBiHzNjFh/KFjVgJOXSbKw0Pg9nOqGBYbydP1K08Mz93lJnKYHUbx3z3ojZuKYxoBDrAzbeTPFPhmAhw6ilhL3d3iKQGCdpaj4MsvLqzukV7FiqYOFfI1pEn8krx7Ft6bo4lZio40gEQZF46rKWAZLXnWC0d+b/T70+0Wy6QONu5E7LZFN4vJcw92b5qjOfOY9Z8UbgqNp5pHDnMesrQwtLo9vwCsSmZTU/Nq4MUsqDlmM07EJ5Rj0BzPi1G0zcW4IXynYZpkaZj/lPwKk8rfDPiAi9sG7Op3+VCOHJG7XF2GNzv8AKqLNg05qdh8QgT6R6ytTycP738J8WrNeMpIO4kFAbl16gidpiGH/ALX+Byoa7VF7WfNM/epHsyP+YQYhcpyqlMq1IsBWlTaslrkedq0m2LhbcOke4JSLtpekz7jfih6aGx+16b3NLcxAaB6MXE8U1LFF9mNPW4GPdqoNHMlTx7GPBkuInotGY6HuWdWwj56dQfdEj4fNXbM2M6rkeHsDC7LlBaDzz5jmI3E8dLhLZPJJaMxO2ovlgc5cT2NEDvWezbVobRe7haPiVtUvJ19N7nOyPeXEuNyRJJsSL2LTYBWU9i1bWb3/AKKTlx+l48vjBO2qmn2d3ff/AAqLfKQethz3j/SF0bNhVpccovHrDcP90GfJvEh7nto5jJc0Z6eu49Jw017FreP3/T9vijZ/lRQb0YLLz0muIk29VxO4blvmmcSwOYWPaDqwzc7jrHVZcs7yVxhscIX9b2W4wWv153QFD7Ts2uyo6m+m7XK4We2ekDucPAwVmyX+N7rL/aOtq7Gqj1Cgn4N7T0mEdi7LFbYAs55H3co8QUC7HtfYFzusj4Bcp+Tl7dL+Pi5hrIIXqFNlu5cv+znVPVYOt0H3rQoUMXT0OYfzkPHflB96t5ynRY53bTP7RU+98AhBTXQ4zZFeo9z8glxkhvVuk/FZuIwb6fpscz7zSB36Lpx58b7c7xs9BqdNaWCZr2Iem0ESLjiL/WhRuFMB3Z8VbeyTy9Gqs/sjv/oP/jXklShcr2KoIwjpt+5P/jXl7mSVIQDVw8nvV2GowD2fFGvZfvTspqgU0kTQp27fgpimr2NsgHLE/m1bCllKDg21RPcqfKGr6HJx8ApswYka6pY+g1pAdNyYm/BSLWT59H7VqiGfi07FHzLOHuCJxeHDMvOVdEdgVwKkk+qdesIGvnL3dEwXE6HitjZOFa98GRaba6hBupCe1NCY88Ci8ZUzMcAL/u/6WkFJmGHFFbQwwax1/WYP6XKDD80fqPmpebgtDvWuLwIBguJ4KT2ganuPGyFxeIy0szeic2QgS30SYs08t8qojtpuV2Rj83RlwbaCPSaT60X4brLMw9EnkNJiZ6grcRXy52AkhxbJJu4NknvN+wK3FYV5qZGiA0kB09HomC6dJJExroLwFuJU8NivNuIDjIMHM0GCLG0zx3rYbQZXGdssrXeAHHJVAInL7Lr30gm4OqxMSxr3GoJbIc42tAAuJi5Novc84BeAqOb52nGVzGmq0EyWvp3dcWOannB3Ho+yFLNJcPTbmu9z7EyDGsxBtO5XnHZRlaQOYJkdQAhbeOwLX021mskuMnmYF76cetYj8IZJj4eMrj1Su3TYup4t8QXE9pIvebdYRmG2g9gOZ7r8JEdiDdh4uASeIkz18UvsryPQJ3+j8IU2U7xtYbbLmDNmc8ggZScsgkcbStWl5RZGkuk+zoCD/MLiO1czh9nVCf4Thxm3vaepFPw4aQHPYCL5Ac74G/I2XHuWbI1LXT4DyoLiBkIHG/xAMrmvKXF/b8Yxo/g4cQ9+4kkOc0HiYDewnQKD8O9wIBNNh1IgPP3QJy9ZM8gq6rRTZkY3K0bh4k7zzTjnG7PJy3lM9A9pbRc+oY3lRq7YNPoUxmePScfRb80CWlmd53Akde73wgXUHCmyGuPnC5zoEuMOLY72k9Z5Lpw4yufK2Nmpteuxw85iXNkBwDWNcMp0IgQR2roNnbdr0mCs2q2vREZ3NaWubxNWjvb/ADNmFyOOpS1rHAh9MFpyS5zZOYMcN5AdEyIyO1U9nbXFGoxjGhrM2V+9z56JzOi+pi1tY3LpePG+meqz29u2RtVlennYRIgOHAkSCOLSCCCh9pbcc0ERK4nyM2k3CVa1CtUawMc5gl1i09JuUSS7fpNnI/bG3sMQS2oHH2RDT31C0e9ebl+O72jrOfHDMpurVHVGEuEZXDK0AEE2BgHUO+oRrMDUAPQd3LkGYh9Al7qrGU3lx0DnWBiwcbTuBJi0Dd1eHEgG9wCvRmRyt269KxLv7I4HXzRtvnIvOGsM6HuXoZw39lMO1pE97F5+iGqdyTUn6p2BBIKYCYNVrGoItYrMim1qkg5WlUZI6+Co2tWYHMEA66gmNOCJpChIu767ENtJlAuaS53Z19SxGgrarJHo9xRGPqMlumnA8epUsp4eR0n/AF2IjFU8OSDmfp8TyVQVsV1PM6IHR1g8RyWeypS5dx+SP2bToDNDn3H1uQjMNh59N/cPkgua+new7v0V22HMyH0fTG7eAeSYYeh7b+79FPadGi5pBe8dKdOAI4c0HMYrIWEAibaC+tzuWDiqRDd5Jc5xEaAn6PauorYLDkfxXjqaPkg37Lwx/wCPV/KPktS4lcs8yBY8+6Fo7QpBz21GCfOOLjMEB5OZzDawE79RffbSdsfDf3ip+T9Em7NotnLiH3/kt22utdUTGVXeC4tDJYTAMuBaNwbeBaNQfBGN/dtrVHOzOc1zAd7nvsdBuY55PW290ZRwFCZdWdJ1ORwJ6yL9xBT4rZVF0F1dxaLNAYQ1o4ARr7zqZU6oYzqG36zWhueWjQdAR/SkfKGryPa34AIk7Fw394fP3D8lJmx8N/eH/k/RM4/F2/Qf/qOtuI7z8HBIeUNU+kSep72/5itJmxcMf+ZcPwfom/YWG3Yl/wCRT9fhvID+2wbOptfye8u8QiqflMWiG02NHAOIHcGq0bBw/wDeXfkTHYGH/vJ/IUs43zFnLlFTvKdx9Rn5nfJUP8oXn1af9fzWhT2DQA/91/QfmnqbAw5/5wD/ALbv9SnTx+F5cvrFxW1nPa5pawZrWmdd11Zh876TWscQ+nmBZmyy0uLs1yBIc4g8svFaY2BQ/vjP/wA3fNM3YNIXbjGA6ghjgR2yFqdM8Jbb5BOxj30AXl9R4/d08znEABzX52jUOGUskRYhT2ThhiHMBYRUa5ozN0f0tHDUu5iT2aaB2OxzQHYymQCY/dxcxO+EdS2NS1bjBHJkEHlDoTqhjE21h3uxVXPSe1xcIYWnNlAhsiN7QCqxseu6G08O8uOhyENHMucAO9dE3D5Hkt2i8fhcR2gvgrZwO0WMbD8U2odzsmQ9sWPcpeRgDD+Q76mTzhAaxoaBczvc4zAlziSddV1+H2W8CAW2gdyDwm1aZ/4gWnSx9P2x9dizbaR2tJh+zgGJ82B/TC4F+BfJuz3/ACXbU8S0Uh0hGQX/AArk3bRp+2xLSBXYB3Fne75KdPZzuLPzFWvxzPbZ9diZuOZ7bFNq4X7PdxZ+ZSbgnfy96icaz2md6dmMZ7TO8ptMWDBu5d6X2N3LvCgcYzi38yf7e32h+b9U2mPNKdYyENjqpLhr9SmY+6HxL+n2LUhV7K0HRW1sUSVnh6T6l9EGphsWRPUoNxR4e5BUquqgHoNUYxyVfFkg2OqzM5Tl5koLBUM6KL3mNDqoteU7nqoZpJ3KZF0zHb+YUmv6UcSioweCuptMPEbp7QR8JVb6lyOtWUqnp9Ud5A+utAvsr8odFj1KvzLuHgj8XUIYwAWvfuQBrlTVyHGHdw8E/wBmfw8E3nypCuUQ4oO4H3KQw5+oTNxBU/Oyp3XsgcO5McO76hW+dhRfUtKGRQ6i4bvBN5t0C2vMJzVlR89YKs1fUova2CNYIEjX/Yp6DHCDv3iVXWrEwTvUqLiSFVHjBEvIi25D4rCuadFu7GZneSfqBCba9IDQKauMCi5zSI8Vq4fEujcslzyHDl8CrKVQhEdnS2y4Uw2fVj3LBdXJ3tQzKpyoY1CoVpecdxb3p2Pdxb3rMNQpm1jxVGo6o/iO9MKr+I71miuVNtdAeaj+ISzv4jvQXnkvPIMpiqxOqSSsKrak/VJJBNiTUkkEwmc5JJA2ZOCkkgbMnpv6QPApkkQ7jJJ5qbXQkkgT3k700pJKKeEgkkgk1XNiN3ekkgdhAVVU9K1hwSSUX0pdqmISSVQ6LwmsR9daZJKR2GzGBrLAA9qG2oRy96SSw6Obxoh9o0Cqa9JJbc75XtrdHVVGokkgXnEm1EklQ5eEweEkkEi9LMkkg//Z'",
     "output_type": "error",
     "traceback": [
      "\u001b[1;31m---------------------------------------------------------------------------\u001b[0m",
      "\u001b[1;31mTypeError\u001b[0m                                 Traceback (most recent call last)",
      "File \u001b[1;32m~\\anaconda3\\Lib\\site-packages\\IPython\\core\\display.py:1045\u001b[0m, in \u001b[0;36mImage._data_and_metadata\u001b[1;34m(self, always_both)\u001b[0m\n\u001b[0;32m   1044\u001b[0m \u001b[38;5;28;01mtry\u001b[39;00m:\n\u001b[1;32m-> 1045\u001b[0m     b64_data \u001b[38;5;241m=\u001b[39m b2a_base64(\u001b[38;5;28mself\u001b[39m\u001b[38;5;241m.\u001b[39mdata, newline\u001b[38;5;241m=\u001b[39m\u001b[38;5;28;01mFalse\u001b[39;00m)\u001b[38;5;241m.\u001b[39mdecode(\u001b[38;5;124m\"\u001b[39m\u001b[38;5;124mascii\u001b[39m\u001b[38;5;124m\"\u001b[39m)\n\u001b[0;32m   1046\u001b[0m \u001b[38;5;28;01mexcept\u001b[39;00m \u001b[38;5;167;01mTypeError\u001b[39;00m \u001b[38;5;28;01mas\u001b[39;00m e:\n",
      "\u001b[1;31mTypeError\u001b[0m: a bytes-like object is required, not 'str'",
      "\nThe above exception was the direct cause of the following exception:\n",
      "\u001b[1;31mFileNotFoundError\u001b[0m                         Traceback (most recent call last)",
      "File \u001b[1;32m~\\anaconda3\\Lib\\site-packages\\IPython\\core\\formatters.py:344\u001b[0m, in \u001b[0;36mBaseFormatter.__call__\u001b[1;34m(self, obj)\u001b[0m\n\u001b[0;32m    342\u001b[0m     method \u001b[38;5;241m=\u001b[39m get_real_method(obj, \u001b[38;5;28mself\u001b[39m\u001b[38;5;241m.\u001b[39mprint_method)\n\u001b[0;32m    343\u001b[0m     \u001b[38;5;28;01mif\u001b[39;00m method \u001b[38;5;129;01mis\u001b[39;00m \u001b[38;5;129;01mnot\u001b[39;00m \u001b[38;5;28;01mNone\u001b[39;00m:\n\u001b[1;32m--> 344\u001b[0m         \u001b[38;5;28;01mreturn\u001b[39;00m method()\n\u001b[0;32m    345\u001b[0m     \u001b[38;5;28;01mreturn\u001b[39;00m \u001b[38;5;28;01mNone\u001b[39;00m\n\u001b[0;32m    346\u001b[0m \u001b[38;5;28;01melse\u001b[39;00m:\n",
      "File \u001b[1;32m~\\anaconda3\\Lib\\site-packages\\IPython\\core\\display.py:1067\u001b[0m, in \u001b[0;36mImage._repr_png_\u001b[1;34m(self)\u001b[0m\n\u001b[0;32m   1065\u001b[0m \u001b[38;5;28;01mdef\u001b[39;00m \u001b[38;5;21m_repr_png_\u001b[39m(\u001b[38;5;28mself\u001b[39m):\n\u001b[0;32m   1066\u001b[0m     \u001b[38;5;28;01mif\u001b[39;00m \u001b[38;5;28mself\u001b[39m\u001b[38;5;241m.\u001b[39membed \u001b[38;5;129;01mand\u001b[39;00m \u001b[38;5;28mself\u001b[39m\u001b[38;5;241m.\u001b[39mformat \u001b[38;5;241m==\u001b[39m \u001b[38;5;28mself\u001b[39m\u001b[38;5;241m.\u001b[39m_FMT_PNG:\n\u001b[1;32m-> 1067\u001b[0m         \u001b[38;5;28;01mreturn\u001b[39;00m \u001b[38;5;28mself\u001b[39m\u001b[38;5;241m.\u001b[39m_data_and_metadata()\n",
      "File \u001b[1;32m~\\anaconda3\\Lib\\site-packages\\IPython\\core\\display.py:1047\u001b[0m, in \u001b[0;36mImage._data_and_metadata\u001b[1;34m(self, always_both)\u001b[0m\n\u001b[0;32m   1045\u001b[0m     b64_data \u001b[38;5;241m=\u001b[39m b2a_base64(\u001b[38;5;28mself\u001b[39m\u001b[38;5;241m.\u001b[39mdata, newline\u001b[38;5;241m=\u001b[39m\u001b[38;5;28;01mFalse\u001b[39;00m)\u001b[38;5;241m.\u001b[39mdecode(\u001b[38;5;124m\"\u001b[39m\u001b[38;5;124mascii\u001b[39m\u001b[38;5;124m\"\u001b[39m)\n\u001b[0;32m   1046\u001b[0m \u001b[38;5;28;01mexcept\u001b[39;00m \u001b[38;5;167;01mTypeError\u001b[39;00m \u001b[38;5;28;01mas\u001b[39;00m e:\n\u001b[1;32m-> 1047\u001b[0m     \u001b[38;5;28;01mraise\u001b[39;00m \u001b[38;5;167;01mFileNotFoundError\u001b[39;00m(\n\u001b[0;32m   1048\u001b[0m         \u001b[38;5;124m\"\u001b[39m\u001b[38;5;124mNo such file or directory: \u001b[39m\u001b[38;5;124m'\u001b[39m\u001b[38;5;132;01m%s\u001b[39;00m\u001b[38;5;124m'\u001b[39m\u001b[38;5;124m\"\u001b[39m \u001b[38;5;241m%\u001b[39m (\u001b[38;5;28mself\u001b[39m\u001b[38;5;241m.\u001b[39mdata)) \u001b[38;5;28;01mfrom\u001b[39;00m \u001b[38;5;21;01me\u001b[39;00m\n\u001b[0;32m   1049\u001b[0m md \u001b[38;5;241m=\u001b[39m {}\n\u001b[0;32m   1050\u001b[0m \u001b[38;5;28;01mif\u001b[39;00m \u001b[38;5;28mself\u001b[39m\u001b[38;5;241m.\u001b[39mmetadata:\n",
      "\u001b[1;31mFileNotFoundError\u001b[0m: No such file or directory: 'data:image/jpeg;base64,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'"
     ]
    },
    {
     "data": {
      "text/plain": [
       "<IPython.core.display.Image object>"
      ]
     },
     "execution_count": 7,
     "metadata": {},
     "output_type": "execute_result"
    }
   ],
   "source": [
    "from IPython.display import Image\n",
    "Image('data:image/jpeg;base64,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')"
   ]
  },
  {
   "cell_type": "markdown",
   "metadata": {},
   "source": [
    "Note how we keep reducing the sequence until a single final value is obtained. Let's see another example:"
   ]
  },
  {
   "cell_type": "code",
   "execution_count": 4,
   "metadata": {},
   "outputs": [],
   "source": [
    "#Find the maximum of a sequence (This already exists as max())\n",
    "max_find= lambda a,b: a if (a>b) else b"
   ]
  },
  {
   "cell_type": "code",
   "execution_count": 5,
   "metadata": {},
   "outputs": [
    {
     "ename": "NameError",
     "evalue": "name 'reduce' is not defined",
     "output_type": "error",
     "traceback": [
      "\u001b[1;31m---------------------------------------------------------------------------\u001b[0m",
      "\u001b[1;31mNameError\u001b[0m                                 Traceback (most recent call last)",
      "Cell \u001b[1;32mIn[5], line 2\u001b[0m\n\u001b[0;32m      1\u001b[0m \u001b[38;5;66;03m#Find max\u001b[39;00m\n\u001b[1;32m----> 2\u001b[0m reduce(max_find,lst)\n",
      "\u001b[1;31mNameError\u001b[0m: name 'reduce' is not defined"
     ]
    }
   ],
   "source": [
    "#Find max\n",
    "reduce(max_find,)"
   ]
  },
  {
   "cell_type": "markdown",
   "metadata": {},
   "source": [
    "# filter\n",
    "\n",
    "The function filter(function, list) offers a convenient way to filter out all the elements of an iterable, for which the function returns \"True\". \n",
    "\n",
    "The function filter(function(),l) needs a function as its first argument. The function needs to return a Boolean value (either True or False). This function will be applied to every element of the iterable. Only if the function returns \"True\" will the element of the iterable be included in the result.\n",
    "\n",
    "Let's see some examples:"
   ]
  },
  {
   "cell_type": "code",
   "execution_count": 8,
   "metadata": {},
   "outputs": [],
   "source": [
    "#First let's make a function\n",
    "def even_check(num):\n",
    "    if num%2 ==0:\n",
    "        return True\n"
   ]
  },
  {
   "cell_type": "markdown",
   "metadata": {},
   "source": [
    "Now let's filter a list of numbers. Note that putting the function into filter without any parenthesis might feel strange, but keep in mind that functions are objects as well."
   ]
  },
  {
   "cell_type": "code",
   "execution_count": 10,
   "metadata": {},
   "outputs": [
    {
     "name": "stdout",
     "output_type": "stream",
     "text": [
      "[0, 1, 2, 3, 4, 5, 6, 7, 8, 9, 10, 11, 12, 13, 14, 15, 16, 17, 18, 19]\n"
     ]
    },
    {
     "data": {
      "text/plain": [
       "[0, 2, 4, 6, 8, 10, 12, 14, 16, 18]"
      ]
     },
     "execution_count": 10,
     "metadata": {},
     "output_type": "execute_result"
    }
   ],
   "source": [
    "lst=range(20)\n",
    "print(list(lst))\n",
    "list(filter(even_check,lst))"
   ]
  },
  {
   "cell_type": "markdown",
   "metadata": {},
   "source": [
    "filter() is more commonly used with lambda functions, this because we usually use filter for a quick job where we don't want to write an entire function. Let's repeat the example above using a lambda expression:"
   ]
  },
  {
   "cell_type": "code",
   "execution_count": 11,
   "metadata": {},
   "outputs": [
    {
     "data": {
      "text/plain": [
       "[0, 2, 4, 6, 8, 10, 12, 14, 16, 18]"
      ]
     },
     "execution_count": 11,
     "metadata": {},
     "output_type": "execute_result"
    }
   ],
   "source": [
    "list(filter(lambda x:x%2==0,lst))"
   ]
  },
  {
   "cell_type": "code",
   "execution_count": null,
   "metadata": {},
   "outputs": [],
   "source": []
  }
 ],
 "metadata": {
  "kernelspec": {
   "display_name": "Python 3 (ipykernel)",
   "language": "python",
   "name": "python3"
  },
  "language_info": {
   "codemirror_mode": {
    "name": "ipython",
    "version": 3
   },
   "file_extension": ".py",
   "mimetype": "text/x-python",
   "name": "python",
   "nbconvert_exporter": "python",
   "pygments_lexer": "ipython3",
   "version": "3.11.4"
  }
 },
 "nbformat": 4,
 "nbformat_minor": 2
}
